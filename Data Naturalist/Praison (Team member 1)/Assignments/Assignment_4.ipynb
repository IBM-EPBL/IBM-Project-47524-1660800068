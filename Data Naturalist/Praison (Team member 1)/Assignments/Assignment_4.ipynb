{
  "nbformat": 4,
  "nbformat_minor": 0,
  "metadata": {
    "colab": {
      "provenance": []
    },
    "kernelspec": {
      "name": "python3",
      "display_name": "Python 3"
    },
    "language_info": {
      "name": "python"
    }
  },
  "cells": [
    {
      "cell_type": "code",
      "source": [
        "from google.colab import drive\n",
        "drive.mount('/content/drive')"
      ],
      "metadata": {
        "colab": {
          "base_uri": "https://localhost:8080/"
        },
        "id": "6tDk8YQpIzWP",
        "outputId": "59c5b0ff-b0af-4bd3-c6ba-3e7fa97b9e0e"
      },
      "execution_count": 1,
      "outputs": [
        {
          "output_type": "stream",
          "name": "stdout",
          "text": [
            "Mounted at /content/drive\n"
          ]
        }
      ]
    },
    {
      "cell_type": "markdown",
      "source": [
        "**Load the dataset**"
      ],
      "metadata": {
        "id": "FNjULy9jJN7U"
      }
    },
    {
      "cell_type": "code",
      "source": [
        "dataset_location = \"/content/drive/MyDrive/IBM/spam.csv\""
      ],
      "metadata": {
        "id": "1k7syVPqJOfL"
      },
      "execution_count": 2,
      "outputs": []
    },
    {
      "cell_type": "markdown",
      "source": [
        "**Import the library**"
      ],
      "metadata": {
        "id": "iYPKtEUmJeA6"
      }
    },
    {
      "cell_type": "code",
      "source": [
        "import pandas as pd\n",
        "import nltk\n",
        "import re\n",
        "import numpy as np\n",
        "from nltk.corpus import stopwords\n",
        "from nltk.stem.porter import PorterStemmer\n",
        "from nltk.translate.ribes_score import word_rank_alignment\n",
        "from numpy.lib.shape_base import split\n",
        "from sklearn import preprocessing\n",
        "from sklearn.feature_extraction.text import CountVectorizer\n",
        "from tensorflow.keras.models import Sequential\n",
        "from sklearn.model_selection import train_test_split\n",
        "from keras.layers import LSTM,Dense,Dropout,Input,Embedding,Activation,Flatten\n",
        "from keras.models import Model\n",
        "import nltk"
      ],
      "metadata": {
        "id": "Bx8PrRIeJbwG"
      },
      "execution_count": 3,
      "outputs": []
    },
    {
      "cell_type": "markdown",
      "source": [
        "**Read dataset and do preprocessing**"
      ],
      "metadata": {
        "id": "YeeQntozJloy"
      }
    },
    {
      "cell_type": "code",
      "source": [
        "data = pd.read_csv(dataset_location,encoding = \"ISO-8859-1\")"
      ],
      "metadata": {
        "id": "xCSqVw71JmMx"
      },
      "execution_count": 4,
      "outputs": []
    },
    {
      "cell_type": "code",
      "source": [
        "data.drop([\"Unnamed: 2\",\"Unnamed: 3\",\"Unnamed: 4\"],axis = 1,inplace = True)\n",
        "data.head()"
      ],
      "metadata": {
        "colab": {
          "base_uri": "https://localhost:8080/",
          "height": 206
        },
        "id": "8clTGdLqJusV",
        "outputId": "15791717-a9dc-41b3-8188-15d398d9f0cd"
      },
      "execution_count": 5,
      "outputs": [
        {
          "output_type": "execute_result",
          "data": {
            "text/plain": [
              "     v1                                                 v2\n",
              "0   ham  Go until jurong point, crazy.. Available only ...\n",
              "1   ham                      Ok lar... Joking wif u oni...\n",
              "2  spam  Free entry in 2 a wkly comp to win FA Cup fina...\n",
              "3   ham  U dun say so early hor... U c already then say...\n",
              "4   ham  Nah I don't think he goes to usf, he lives aro..."
            ],
            "text/html": [
              "\n",
              "  <div id=\"df-09526fdb-af1d-4df7-91df-0db18c821fcf\">\n",
              "    <div class=\"colab-df-container\">\n",
              "      <div>\n",
              "<style scoped>\n",
              "    .dataframe tbody tr th:only-of-type {\n",
              "        vertical-align: middle;\n",
              "    }\n",
              "\n",
              "    .dataframe tbody tr th {\n",
              "        vertical-align: top;\n",
              "    }\n",
              "\n",
              "    .dataframe thead th {\n",
              "        text-align: right;\n",
              "    }\n",
              "</style>\n",
              "<table border=\"1\" class=\"dataframe\">\n",
              "  <thead>\n",
              "    <tr style=\"text-align: right;\">\n",
              "      <th></th>\n",
              "      <th>v1</th>\n",
              "      <th>v2</th>\n",
              "    </tr>\n",
              "  </thead>\n",
              "  <tbody>\n",
              "    <tr>\n",
              "      <th>0</th>\n",
              "      <td>ham</td>\n",
              "      <td>Go until jurong point, crazy.. Available only ...</td>\n",
              "    </tr>\n",
              "    <tr>\n",
              "      <th>1</th>\n",
              "      <td>ham</td>\n",
              "      <td>Ok lar... Joking wif u oni...</td>\n",
              "    </tr>\n",
              "    <tr>\n",
              "      <th>2</th>\n",
              "      <td>spam</td>\n",
              "      <td>Free entry in 2 a wkly comp to win FA Cup fina...</td>\n",
              "    </tr>\n",
              "    <tr>\n",
              "      <th>3</th>\n",
              "      <td>ham</td>\n",
              "      <td>U dun say so early hor... U c already then say...</td>\n",
              "    </tr>\n",
              "    <tr>\n",
              "      <th>4</th>\n",
              "      <td>ham</td>\n",
              "      <td>Nah I don't think he goes to usf, he lives aro...</td>\n",
              "    </tr>\n",
              "  </tbody>\n",
              "</table>\n",
              "</div>\n",
              "      <button class=\"colab-df-convert\" onclick=\"convertToInteractive('df-09526fdb-af1d-4df7-91df-0db18c821fcf')\"\n",
              "              title=\"Convert this dataframe to an interactive table.\"\n",
              "              style=\"display:none;\">\n",
              "        \n",
              "  <svg xmlns=\"http://www.w3.org/2000/svg\" height=\"24px\"viewBox=\"0 0 24 24\"\n",
              "       width=\"24px\">\n",
              "    <path d=\"M0 0h24v24H0V0z\" fill=\"none\"/>\n",
              "    <path d=\"M18.56 5.44l.94 2.06.94-2.06 2.06-.94-2.06-.94-.94-2.06-.94 2.06-2.06.94zm-11 1L8.5 8.5l.94-2.06 2.06-.94-2.06-.94L8.5 2.5l-.94 2.06-2.06.94zm10 10l.94 2.06.94-2.06 2.06-.94-2.06-.94-.94-2.06-.94 2.06-2.06.94z\"/><path d=\"M17.41 7.96l-1.37-1.37c-.4-.4-.92-.59-1.43-.59-.52 0-1.04.2-1.43.59L10.3 9.45l-7.72 7.72c-.78.78-.78 2.05 0 2.83L4 21.41c.39.39.9.59 1.41.59.51 0 1.02-.2 1.41-.59l7.78-7.78 2.81-2.81c.8-.78.8-2.07 0-2.86zM5.41 20L4 18.59l7.72-7.72 1.47 1.35L5.41 20z\"/>\n",
              "  </svg>\n",
              "      </button>\n",
              "      \n",
              "  <style>\n",
              "    .colab-df-container {\n",
              "      display:flex;\n",
              "      flex-wrap:wrap;\n",
              "      gap: 12px;\n",
              "    }\n",
              "\n",
              "    .colab-df-convert {\n",
              "      background-color: #E8F0FE;\n",
              "      border: none;\n",
              "      border-radius: 50%;\n",
              "      cursor: pointer;\n",
              "      display: none;\n",
              "      fill: #1967D2;\n",
              "      height: 32px;\n",
              "      padding: 0 0 0 0;\n",
              "      width: 32px;\n",
              "    }\n",
              "\n",
              "    .colab-df-convert:hover {\n",
              "      background-color: #E2EBFA;\n",
              "      box-shadow: 0px 1px 2px rgba(60, 64, 67, 0.3), 0px 1px 3px 1px rgba(60, 64, 67, 0.15);\n",
              "      fill: #174EA6;\n",
              "    }\n",
              "\n",
              "    [theme=dark] .colab-df-convert {\n",
              "      background-color: #3B4455;\n",
              "      fill: #D2E3FC;\n",
              "    }\n",
              "\n",
              "    [theme=dark] .colab-df-convert:hover {\n",
              "      background-color: #434B5C;\n",
              "      box-shadow: 0px 1px 3px 1px rgba(0, 0, 0, 0.15);\n",
              "      filter: drop-shadow(0px 1px 2px rgba(0, 0, 0, 0.3));\n",
              "      fill: #FFFFFF;\n",
              "    }\n",
              "  </style>\n",
              "\n",
              "      <script>\n",
              "        const buttonEl =\n",
              "          document.querySelector('#df-09526fdb-af1d-4df7-91df-0db18c821fcf button.colab-df-convert');\n",
              "        buttonEl.style.display =\n",
              "          google.colab.kernel.accessAllowed ? 'block' : 'none';\n",
              "\n",
              "        async function convertToInteractive(key) {\n",
              "          const element = document.querySelector('#df-09526fdb-af1d-4df7-91df-0db18c821fcf');\n",
              "          const dataTable =\n",
              "            await google.colab.kernel.invokeFunction('convertToInteractive',\n",
              "                                                     [key], {});\n",
              "          if (!dataTable) return;\n",
              "\n",
              "          const docLinkHtml = 'Like what you see? Visit the ' +\n",
              "            '<a target=\"_blank\" href=https://colab.research.google.com/notebooks/data_table.ipynb>data table notebook</a>'\n",
              "            + ' to learn more about interactive tables.';\n",
              "          element.innerHTML = '';\n",
              "          dataTable['output_type'] = 'display_data';\n",
              "          await google.colab.output.renderOutput(dataTable, element);\n",
              "          const docLink = document.createElement('div');\n",
              "          docLink.innerHTML = docLinkHtml;\n",
              "          element.appendChild(docLink);\n",
              "        }\n",
              "      </script>\n",
              "    </div>\n",
              "  </div>\n",
              "  "
            ]
          },
          "metadata": {},
          "execution_count": 5
        }
      ]
    },
    {
      "cell_type": "code",
      "source": [
        "nltk.download('stopwords',quiet=True)\n",
        "nltk.download('all',quiet=True)"
      ],
      "metadata": {
        "colab": {
          "base_uri": "https://localhost:8080/"
        },
        "id": "PoAmbwXUJ1eh",
        "outputId": "2ffb640c-559e-42c8-fcbd-4930257986f5"
      },
      "execution_count": 6,
      "outputs": [
        {
          "output_type": "execute_result",
          "data": {
            "text/plain": [
              "True"
            ]
          },
          "metadata": {},
          "execution_count": 6
        }
      ]
    },
    {
      "cell_type": "code",
      "source": [
        "ps = PorterStemmer()\n",
        "input = []"
      ],
      "metadata": {
        "id": "giz8_wnHJ6g-"
      },
      "execution_count": 7,
      "outputs": []
    },
    {
      "cell_type": "code",
      "source": [
        "for i in range(0,5572):\n",
        "  v2 = data['v2'][i]\n",
        "\n",
        "  #removing punctuation\n",
        "  v2 = re.sub('[^a-zA-Z]',' ',v2)\n",
        "\n",
        "  #converting to lower case\n",
        "  v2 = v2.lower()\n",
        "\n",
        "  #splitting the sentence\n",
        "  v2 = v2.split()\n",
        "\n",
        "  #removing the stopwords and stemming\n",
        "  v2 = [ps.stem(word) for word in v2 if not word in set(stopwords.words('english'))]\n",
        "\n",
        "  v2 = ' '.join(v2)\n",
        "\n",
        "  input.append(v2)"
      ],
      "metadata": {
        "id": "UmOBAW7xJ_ye"
      },
      "execution_count": 8,
      "outputs": []
    },
    {
      "cell_type": "code",
      "source": [
        "#creating document term matrix\n",
        "cv = CountVectorizer(max_features=2000)\n",
        "x = cv.fit_transform(input).toarray()\n",
        "x.shape"
      ],
      "metadata": {
        "colab": {
          "base_uri": "https://localhost:8080/"
        },
        "id": "zBaY-QshKDYP",
        "outputId": "3e198bed-c52b-42c6-e123-836577604753"
      },
      "execution_count": 9,
      "outputs": [
        {
          "output_type": "execute_result",
          "data": {
            "text/plain": [
              "(5572, 2000)"
            ]
          },
          "metadata": {},
          "execution_count": 9
        }
      ]
    },
    {
      "cell_type": "code",
      "source": [
        "le = preprocessing.LabelEncoder()\n",
        "\n",
        "data['v1'] = le.fit_transform(data['v1'])\n",
        "data['v1'].unique()"
      ],
      "metadata": {
        "colab": {
          "base_uri": "https://localhost:8080/"
        },
        "id": "jQEcEr_hKGGU",
        "outputId": "628e8daa-599f-4088-f716-f9aa5c4ed03a"
      },
      "execution_count": 10,
      "outputs": [
        {
          "output_type": "execute_result",
          "data": {
            "text/plain": [
              "array([0, 1])"
            ]
          },
          "metadata": {},
          "execution_count": 10
        }
      ]
    },
    {
      "cell_type": "code",
      "source": [
        "y = data['v1'].values"
      ],
      "metadata": {
        "id": "J0KdgDhRKJzB"
      },
      "execution_count": 11,
      "outputs": []
    },
    {
      "cell_type": "code",
      "source": [
        "y = y.reshape(-1,1)"
      ],
      "metadata": {
        "id": "ubwbvPKNKMvO"
      },
      "execution_count": 12,
      "outputs": []
    },
    {
      "cell_type": "code",
      "source": [
        "x_train,x_test,y_train,y_test = train_test_split(x,y,test_size = 0.4)"
      ],
      "metadata": {
        "id": "cuCuqw7sKO8r"
      },
      "execution_count": 13,
      "outputs": []
    },
    {
      "cell_type": "markdown",
      "source": [
        "**Model building - Adding layers, Compiling model and saving model**"
      ],
      "metadata": {
        "id": "cObhzmeiKY66"
      }
    },
    {
      "cell_type": "code",
      "source": [
        "model = Sequential()\n"
      ],
      "metadata": {
        "id": "AEi3-PZtKdGV"
      },
      "execution_count": 14,
      "outputs": []
    },
    {
      "cell_type": "code",
      "source": [
        "model.add(Dense(1565,activation = \"relu\"))\n",
        "model.add(Dense(3000,activation = \"relu\"))\n",
        "model.add(Dense(1,activation = \"sigmoid\"))\n",
        "model.add(Flatten())"
      ],
      "metadata": {
        "id": "bpJSANTfKgXV"
      },
      "execution_count": 15,
      "outputs": []
    },
    {
      "cell_type": "code",
      "source": [
        "model.compile(optimizer = \"adam\",loss = \"binary_crossentropy\", metrics = [\"accuracy\"])"
      ],
      "metadata": {
        "id": "aS6HQX_RKl60"
      },
      "execution_count": 16,
      "outputs": []
    },
    {
      "cell_type": "code",
      "source": [
        "model.fit(x_train,y_train,epochs = 15)"
      ],
      "metadata": {
        "colab": {
          "base_uri": "https://localhost:8080/"
        },
        "id": "PlIIdHkgKozd",
        "outputId": "18dd68b2-6ecd-4855-9a1b-e317c5800d8e"
      },
      "execution_count": null,
      "outputs": [
        {
          "output_type": "stream",
          "name": "stdout",
          "text": [
            "Epoch 1/15\n",
            "105/105 [==============================] - 6s 47ms/step - loss: 0.1359 - accuracy: 0.9572\n",
            "Epoch 2/15\n",
            "105/105 [==============================] - 5s 50ms/step - loss: 0.0100 - accuracy: 0.9979\n",
            "Epoch 3/15\n",
            "105/105 [==============================] - 5s 45ms/step - loss: 0.0037 - accuracy: 0.9991\n",
            "Epoch 4/15\n",
            "  4/105 [>.............................] - ETA: 4s - loss: 9.2643e-04 - accuracy: 1.0000"
          ]
        }
      ]
    },
    {
      "cell_type": "code",
      "source": [
        "model.save(\"spam-message-classifier.h5\")"
      ],
      "metadata": {
        "id": "JorX4oCMKtK9"
      },
      "execution_count": null,
      "outputs": []
    },
    {
      "cell_type": "markdown",
      "source": [
        "**Testing the model**"
      ],
      "metadata": {
        "id": "mTn_a4LvKxGP"
      }
    },
    {
      "cell_type": "code",
      "source": [
        "ham = \"im donee. come pick me up\"\n",
        "spam = \"WINNER$$$$ SMS REPLY 'WIN'\"\n",
        "message = re.sub('[^a-zA-Z]',' ',spam)\n",
        "message"
      ],
      "metadata": {
        "id": "nouSmG3MK1vr"
      },
      "execution_count": null,
      "outputs": []
    },
    {
      "cell_type": "markdown",
      "source": [
        "**Testing with spam message**"
      ],
      "metadata": {
        "id": "F4DRsCvIK98j"
      }
    },
    {
      "cell_type": "code",
      "source": [
        "message = message.split()\n",
        "message = [ps.stem(word) for word in message if not word in set(stopwords.words('english')) ]\n",
        "message = ' '.join(message)"
      ],
      "metadata": {
        "id": "-8ADHJUWK6hU"
      },
      "execution_count": null,
      "outputs": []
    },
    {
      "cell_type": "code",
      "source": [
        "message1 = cv.transform([message])\n",
        "message1"
      ],
      "metadata": {
        "id": "DoUwL43lLeHI"
      },
      "execution_count": null,
      "outputs": []
    },
    {
      "cell_type": "code",
      "source": [
        "TruePredction = model.predict(message1.astype(float))"
      ],
      "metadata": {
        "id": "KUS-TLWGLyox"
      },
      "execution_count": null,
      "outputs": []
    },
    {
      "cell_type": "markdown",
      "source": [
        "**Testing with normal message**"
      ],
      "metadata": {
        "id": "F1GX9a2GMD8A"
      }
    },
    {
      "cell_type": "code",
      "source": [
        "msg = re.sub('[^a-zA-Z]',' ',ham)\n",
        "msg"
      ],
      "metadata": {
        "id": "A7q9YZYVMBkL"
      },
      "execution_count": null,
      "outputs": []
    },
    {
      "cell_type": "code",
      "source": [
        "msg = msg.split()\n",
        "msg = [ps.stem(word) for word in msg if not word in set(stopwords.words('english'))]\n",
        "msg = ' '.join(msg)"
      ],
      "metadata": {
        "id": "QzvF2ivwMIoA"
      },
      "execution_count": null,
      "outputs": []
    },
    {
      "cell_type": "code",
      "source": [
        "msg"
      ],
      "metadata": {
        "id": "92OjYFjcMOQo"
      },
      "execution_count": null,
      "outputs": []
    },
    {
      "cell_type": "code",
      "source": [
        "cv.transform([msg])"
      ],
      "metadata": {
        "id": "JaNc5ZG1MRay"
      },
      "execution_count": null,
      "outputs": []
    },
    {
      "cell_type": "code",
      "source": [
        "FalsePredection = model.predict(cv.transform([msg]))"
      ],
      "metadata": {
        "id": "tzThmXaBMVWG"
      },
      "execution_count": null,
      "outputs": []
    },
    {
      "cell_type": "code",
      "source": [
        "FalsePredection > 0.5"
      ],
      "metadata": {
        "id": "FM_wBUjbMYiM"
      },
      "execution_count": null,
      "outputs": []
    }
  ]
}